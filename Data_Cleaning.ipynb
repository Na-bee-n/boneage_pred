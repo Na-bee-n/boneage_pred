{
 "cells": [
  {
   "cell_type": "code",
   "execution_count": 1,
   "id": "6af900b8",
   "metadata": {},
   "outputs": [
    {
     "name": "stderr",
     "output_type": "stream",
     "text": [
      "C:\\ProgramData\\Anaconda3\\lib\\site-packages\\scipy\\__init__.py:155: UserWarning: A NumPy version >=1.18.5 and <1.25.0 is required for this version of SciPy (detected version 1.26.3\n",
      "  warnings.warn(f\"A NumPy version >={np_minversion} and <{np_maxversion}\"\n"
     ]
    }
   ],
   "source": [
    "import numpy as np\n",
    "import pandas  as pd\n",
    "import os\n",
    "import matplotlib.pyplot as plt\n",
    "import seaborn as sns"
   ]
  },
  {
   "cell_type": "code",
   "execution_count": 4,
   "id": "917642ba",
   "metadata": {},
   "outputs": [],
   "source": [
    "df_train = pd.read_csv(\"D:/Minor_Project/dataset/boneage-training-dataset.csv\")\n",
    "df_val = pd.read_csv(\"D:/Minor_Project/dataset/boneage-validation-dataset.csv\")\n"
   ]
  },
  {
   "cell_type": "code",
   "execution_count": 5,
   "id": "2f6a7a2a",
   "metadata": {},
   "outputs": [
    {
     "name": "stdout",
     "output_type": "stream",
     "text": [
      "     id  boneage   male\n",
      "0  1377      180  False\n",
      "1  1378       12  False\n",
      "2  1379       94  False\n",
      "3  1380      120   True\n",
      "4  1381       82  False\n"
     ]
    },
    {
     "data": {
      "text/html": [
       "<div>\n",
       "<style scoped>\n",
       "    .dataframe tbody tr th:only-of-type {\n",
       "        vertical-align: middle;\n",
       "    }\n",
       "\n",
       "    .dataframe tbody tr th {\n",
       "        vertical-align: top;\n",
       "    }\n",
       "\n",
       "    .dataframe thead th {\n",
       "        text-align: right;\n",
       "    }\n",
       "</style>\n",
       "<table border=\"1\" class=\"dataframe\">\n",
       "  <thead>\n",
       "    <tr style=\"text-align: right;\">\n",
       "      <th></th>\n",
       "      <th>Image ID</th>\n",
       "      <th>male</th>\n",
       "      <th>Bone Age (months)</th>\n",
       "    </tr>\n",
       "  </thead>\n",
       "  <tbody>\n",
       "    <tr>\n",
       "      <th>0</th>\n",
       "      <td>1386</td>\n",
       "      <td>False</td>\n",
       "      <td>30</td>\n",
       "    </tr>\n",
       "    <tr>\n",
       "      <th>1</th>\n",
       "      <td>1392</td>\n",
       "      <td>True</td>\n",
       "      <td>162</td>\n",
       "    </tr>\n",
       "    <tr>\n",
       "      <th>2</th>\n",
       "      <td>1397</td>\n",
       "      <td>False</td>\n",
       "      <td>18</td>\n",
       "    </tr>\n",
       "    <tr>\n",
       "      <th>3</th>\n",
       "      <td>1401</td>\n",
       "      <td>False</td>\n",
       "      <td>132</td>\n",
       "    </tr>\n",
       "    <tr>\n",
       "      <th>4</th>\n",
       "      <td>1410</td>\n",
       "      <td>True</td>\n",
       "      <td>57</td>\n",
       "    </tr>\n",
       "  </tbody>\n",
       "</table>\n",
       "</div>"
      ],
      "text/plain": [
       "   Image ID   male  Bone Age (months)\n",
       "0      1386  False                 30\n",
       "1      1392   True                162\n",
       "2      1397  False                 18\n",
       "3      1401  False                132\n",
       "4      1410   True                 57"
      ]
     },
     "execution_count": 5,
     "metadata": {},
     "output_type": "execute_result"
    }
   ],
   "source": [
    "print(df_train.head())\n",
    "df_val.head()"
   ]
  },
  {
   "cell_type": "code",
   "execution_count": 6,
   "id": "1cf91429",
   "metadata": {},
   "outputs": [
    {
     "data": {
      "text/html": [
       "<div>\n",
       "<style scoped>\n",
       "    .dataframe tbody tr th:only-of-type {\n",
       "        vertical-align: middle;\n",
       "    }\n",
       "\n",
       "    .dataframe tbody tr th {\n",
       "        vertical-align: top;\n",
       "    }\n",
       "\n",
       "    .dataframe thead th {\n",
       "        text-align: right;\n",
       "    }\n",
       "</style>\n",
       "<table border=\"1\" class=\"dataframe\">\n",
       "  <thead>\n",
       "    <tr style=\"text-align: right;\">\n",
       "      <th></th>\n",
       "      <th>id</th>\n",
       "      <th>boneage</th>\n",
       "      <th>filename</th>\n",
       "      <th>gender</th>\n",
       "    </tr>\n",
       "  </thead>\n",
       "  <tbody>\n",
       "    <tr>\n",
       "      <th>0</th>\n",
       "      <td>1377</td>\n",
       "      <td>180</td>\n",
       "      <td>1377.png</td>\n",
       "      <td>female</td>\n",
       "    </tr>\n",
       "    <tr>\n",
       "      <th>1</th>\n",
       "      <td>1378</td>\n",
       "      <td>12</td>\n",
       "      <td>1378.png</td>\n",
       "      <td>female</td>\n",
       "    </tr>\n",
       "    <tr>\n",
       "      <th>2</th>\n",
       "      <td>1379</td>\n",
       "      <td>94</td>\n",
       "      <td>1379.png</td>\n",
       "      <td>female</td>\n",
       "    </tr>\n",
       "    <tr>\n",
       "      <th>3</th>\n",
       "      <td>1380</td>\n",
       "      <td>120</td>\n",
       "      <td>1380.png</td>\n",
       "      <td>male</td>\n",
       "    </tr>\n",
       "    <tr>\n",
       "      <th>4</th>\n",
       "      <td>1381</td>\n",
       "      <td>82</td>\n",
       "      <td>1381.png</td>\n",
       "      <td>female</td>\n",
       "    </tr>\n",
       "  </tbody>\n",
       "</table>\n",
       "</div>"
      ],
      "text/plain": [
       "     id  boneage  filename  gender\n",
       "0  1377      180  1377.png  female\n",
       "1  1378       12  1378.png  female\n",
       "2  1379       94  1379.png  female\n",
       "3  1380      120  1380.png    male\n",
       "4  1381       82  1381.png  female"
      ]
     },
     "execution_count": 6,
     "metadata": {},
     "output_type": "execute_result"
    }
   ],
   "source": [
    "df_train['filename'] = df_train['id'].apply(lambda x: str(x) + '.png')\n",
    "df_train['gender'] = df_train['male'].apply(lambda x: 'male' if x else 'female')\n",
    "df_train.drop(columns = 'male',inplace = True)\n",
    "df_train.head()"
   ]
  },
  {
   "cell_type": "code",
   "execution_count": 7,
   "id": "5131f43d",
   "metadata": {},
   "outputs": [
    {
     "name": "stdout",
     "output_type": "stream",
     "text": [
      "<class 'pandas.core.frame.DataFrame'>\n",
      "RangeIndex: 12611 entries, 0 to 12610\n",
      "Data columns (total 4 columns):\n",
      " #   Column    Non-Null Count  Dtype \n",
      "---  ------    --------------  ----- \n",
      " 0   id        12611 non-null  int64 \n",
      " 1   boneage   12611 non-null  int64 \n",
      " 2   filename  12611 non-null  object\n",
      " 3   gender    12611 non-null  object\n",
      "dtypes: int64(2), object(2)\n",
      "memory usage: 394.2+ KB\n"
     ]
    }
   ],
   "source": [
    "df_train.info()"
   ]
  },
  {
   "cell_type": "code",
   "execution_count": 8,
   "id": "b99aa760",
   "metadata": {},
   "outputs": [
    {
     "data": {
      "text/html": [
       "<div>\n",
       "<style scoped>\n",
       "    .dataframe tbody tr th:only-of-type {\n",
       "        vertical-align: middle;\n",
       "    }\n",
       "\n",
       "    .dataframe tbody tr th {\n",
       "        vertical-align: top;\n",
       "    }\n",
       "\n",
       "    .dataframe thead th {\n",
       "        text-align: right;\n",
       "    }\n",
       "</style>\n",
       "<table border=\"1\" class=\"dataframe\">\n",
       "  <thead>\n",
       "    <tr style=\"text-align: right;\">\n",
       "      <th></th>\n",
       "      <th>Image ID</th>\n",
       "      <th>Bone Age (months)</th>\n",
       "      <th>filename</th>\n",
       "      <th>gender</th>\n",
       "    </tr>\n",
       "  </thead>\n",
       "  <tbody>\n",
       "    <tr>\n",
       "      <th>0</th>\n",
       "      <td>1386</td>\n",
       "      <td>30</td>\n",
       "      <td>1386.png</td>\n",
       "      <td>female</td>\n",
       "    </tr>\n",
       "    <tr>\n",
       "      <th>1</th>\n",
       "      <td>1392</td>\n",
       "      <td>162</td>\n",
       "      <td>1392.png</td>\n",
       "      <td>male</td>\n",
       "    </tr>\n",
       "    <tr>\n",
       "      <th>2</th>\n",
       "      <td>1397</td>\n",
       "      <td>18</td>\n",
       "      <td>1397.png</td>\n",
       "      <td>female</td>\n",
       "    </tr>\n",
       "    <tr>\n",
       "      <th>3</th>\n",
       "      <td>1401</td>\n",
       "      <td>132</td>\n",
       "      <td>1401.png</td>\n",
       "      <td>female</td>\n",
       "    </tr>\n",
       "    <tr>\n",
       "      <th>4</th>\n",
       "      <td>1410</td>\n",
       "      <td>57</td>\n",
       "      <td>1410.png</td>\n",
       "      <td>male</td>\n",
       "    </tr>\n",
       "  </tbody>\n",
       "</table>\n",
       "</div>"
      ],
      "text/plain": [
       "   Image ID  Bone Age (months)  filename  gender\n",
       "0      1386                 30  1386.png  female\n",
       "1      1392                162  1392.png    male\n",
       "2      1397                 18  1397.png  female\n",
       "3      1401                132  1401.png  female\n",
       "4      1410                 57  1410.png    male"
      ]
     },
     "execution_count": 8,
     "metadata": {},
     "output_type": "execute_result"
    }
   ],
   "source": [
    "df_val['filename'] = df_val['Image ID'].apply(lambda x: str(x) + '.png')\n",
    "df_val['gender'] = df_val['male'].apply(lambda x: 'male' if x else 'female')\n",
    "df_val.drop(columns = 'male',inplace = True)\n",
    "df_val.head()"
   ]
  },
  {
   "cell_type": "code",
   "execution_count": 9,
   "id": "cfa1fea4",
   "metadata": {},
   "outputs": [
    {
     "name": "stdout",
     "output_type": "stream",
     "text": [
      "<class 'pandas.core.frame.DataFrame'>\n",
      "RangeIndex: 1425 entries, 0 to 1424\n",
      "Data columns (total 4 columns):\n",
      " #   Column             Non-Null Count  Dtype \n",
      "---  ------             --------------  ----- \n",
      " 0   Image ID           1425 non-null   int64 \n",
      " 1   Bone Age (months)  1425 non-null   int64 \n",
      " 2   filename           1425 non-null   object\n",
      " 3   gender             1425 non-null   object\n",
      "dtypes: int64(2), object(2)\n",
      "memory usage: 44.7+ KB\n"
     ]
    }
   ],
   "source": [
    "df_val.info()"
   ]
  },
  {
   "cell_type": "code",
   "execution_count": 10,
   "id": "cef04555",
   "metadata": {},
   "outputs": [
    {
     "data": {
      "text/plain": [
       "count    12611.000000\n",
       "mean       127.320752\n",
       "std         41.182021\n",
       "min          1.000000\n",
       "25%         96.000000\n",
       "50%        132.000000\n",
       "75%        156.000000\n",
       "max        228.000000\n",
       "Name: boneage, dtype: float64"
      ]
     },
     "execution_count": 10,
     "metadata": {},
     "output_type": "execute_result"
    }
   ],
   "source": [
    "df_train['boneage'].describe()"
   ]
  },
  {
   "cell_type": "code",
   "execution_count": 11,
   "id": "5294b868",
   "metadata": {},
   "outputs": [
    {
     "data": {
      "text/plain": [
       "<AxesSubplot:>"
      ]
     },
     "execution_count": 11,
     "metadata": {},
     "output_type": "execute_result"
    },
    {
     "data": {
      "image/png": "[encoded data removed]",
      "text/plain": [
       "<Figure size 640x480 with 1 Axes>"
      ]
     },
     "metadata": {},
     "output_type": "display_data"
    }
   ],
   "source": [
    "df_train['boneage'].hist(bins=10)"
   ]
  },
  {
   "cell_type": "code",
   "execution_count": 12,
   "id": "83294967",
   "metadata": {},
   "outputs": [
    {
     "name": "stdout",
     "output_type": "stream",
     "text": [
      "mean:  127.23862147637749 \n",
      "Standard deviation:  41.45201616171413\n",
      "     id  boneage  filename  gender  boneage_zscore\n",
      "0  1377      180  1377.png  female        1.272830\n",
      "1  1378       12  1378.png  female       -2.780049\n",
      "2  1379       94  1379.png  female       -0.801858\n",
      "3  1380      120  1380.png    male       -0.174627\n",
      "4  1381       82  1381.png  female       -1.091349\n"
     ]
    },
    {
     "data": {
      "text/html": [
       "<div>\n",
       "<style scoped>\n",
       "    .dataframe tbody tr th:only-of-type {\n",
       "        vertical-align: middle;\n",
       "    }\n",
       "\n",
       "    .dataframe tbody tr th {\n",
       "        vertical-align: top;\n",
       "    }\n",
       "\n",
       "    .dataframe thead th {\n",
       "        text-align: right;\n",
       "    }\n",
       "</style>\n",
       "<table border=\"1\" class=\"dataframe\">\n",
       "  <thead>\n",
       "    <tr style=\"text-align: right;\">\n",
       "      <th></th>\n",
       "      <th>Image ID</th>\n",
       "      <th>Bone Age (months)</th>\n",
       "      <th>filename</th>\n",
       "      <th>gender</th>\n",
       "      <th>boneage_zscore</th>\n",
       "    </tr>\n",
       "  </thead>\n",
       "  <tbody>\n",
       "    <tr>\n",
       "      <th>0</th>\n",
       "      <td>1386</td>\n",
       "      <td>30</td>\n",
       "      <td>1386.png</td>\n",
       "      <td>female</td>\n",
       "      <td>-2.345812</td>\n",
       "    </tr>\n",
       "    <tr>\n",
       "      <th>1</th>\n",
       "      <td>1392</td>\n",
       "      <td>162</td>\n",
       "      <td>1392.png</td>\n",
       "      <td>male</td>\n",
       "      <td>0.838593</td>\n",
       "    </tr>\n",
       "    <tr>\n",
       "      <th>2</th>\n",
       "      <td>1397</td>\n",
       "      <td>18</td>\n",
       "      <td>1397.png</td>\n",
       "      <td>female</td>\n",
       "      <td>-2.635303</td>\n",
       "    </tr>\n",
       "    <tr>\n",
       "      <th>3</th>\n",
       "      <td>1401</td>\n",
       "      <td>132</td>\n",
       "      <td>1401.png</td>\n",
       "      <td>female</td>\n",
       "      <td>0.114865</td>\n",
       "    </tr>\n",
       "    <tr>\n",
       "      <th>4</th>\n",
       "      <td>1410</td>\n",
       "      <td>57</td>\n",
       "      <td>1410.png</td>\n",
       "      <td>male</td>\n",
       "      <td>-1.694456</td>\n",
       "    </tr>\n",
       "  </tbody>\n",
       "</table>\n",
       "</div>"
      ],
      "text/plain": [
       "   Image ID  Bone Age (months)  filename  gender  boneage_zscore\n",
       "0      1386                 30  1386.png  female       -2.345812\n",
       "1      1392                162  1392.png    male        0.838593\n",
       "2      1397                 18  1397.png  female       -2.635303\n",
       "3      1401                132  1401.png  female        0.114865\n",
       "4      1410                 57  1410.png    male       -1.694456"
      ]
     },
     "execution_count": 12,
     "metadata": {},
     "output_type": "execute_result"
    }
   ],
   "source": [
    "boneage_mean = (df_train['boneage'].mean() + df_val['Bone Age (months)'].mean())/2\n",
    "boneage_std =(df_train['boneage'].std() + df_val['Bone Age (months)'].std())/2\n",
    "print(\"mean: \",boneage_mean,\"\\nStandard deviation: \",boneage_std)\n",
    "\n",
    "df_train['boneage_zscore'] = (df_train['boneage']-boneage_mean)/boneage_std\n",
    "df_val['boneage_zscore']=((df_val['Bone Age (months)']-boneage_mean)/boneage_std)\n",
    "print(df_train.head())\n",
    "df_val.head()"
   ]
  },
  {
   "cell_type": "code",
   "execution_count": 13,
   "id": "c748657f",
   "metadata": {},
   "outputs": [
    {
     "data": {
      "text/plain": [
       "<AxesSubplot:>"
      ]
     },
     "execution_count": 13,
     "metadata": {},
     "output_type": "execute_result"
    },
    {
     "data": {
      "image/png": "[encoded data removed]",
      "text/plain": [
       "<Figure size 640x480 with 1 Axes>"
      ]
     },
     "metadata": {},
     "output_type": "display_data"
    }
   ],
   "source": [
    "df_train['boneage_zscore'].hist(bins=10)"
   ]
  },
  {
   "cell_type": "code",
   "execution_count": 14,
   "id": "06823f54",
   "metadata": {},
   "outputs": [
    {
     "data": {
      "text/plain": [
       "<AxesSubplot:>"
      ]
     },
     "execution_count": 14,
     "metadata": {},
     "output_type": "execute_result"
    },
    {
     "data": {
      "image/png": "[encoded data removed]",
      "text/plain": [
       "<Figure size 640x480 with 1 Axes>"
      ]
     },
     "metadata": {},
     "output_type": "display_data"
    }
   ],
   "source": [
    "df_val['boneage_zscore'].hist(bins=10)"
   ]
  },
  {
   "cell_type": "code",
   "execution_count": 15,
   "id": "b1d24e09",
   "metadata": {},
   "outputs": [
    {
     "data": {
      "text/plain": [
       "male      6833\n",
       "female    5778\n",
       "Name: gender, dtype: int64"
      ]
     },
     "execution_count": 15,
     "metadata": {},
     "output_type": "execute_result"
    }
   ],
   "source": [
    "# Gender Distribution\n",
    "df_train['gender'].value_counts()"
   ]
  },
  {
   "cell_type": "code",
   "execution_count": 16,
   "id": "431863ea",
   "metadata": {},
   "outputs": [
    {
     "name": "stdout",
     "output_type": "stream",
     "text": [
      "Trainig male %:  54.182856236618825\n",
      "Training female %:  45.817143763381175\n",
      "validation male %:  54.24561403508772\n"
     ]
    }
   ],
   "source": [
    "male = (len(df_train[df_train['gender']=='male'])/len(df_train)*100)\n",
    "female = 100-male\n",
    "\n",
    "print(\"Trainig male %: \", male)\n",
    "print(\"Training female %: \",female)\n",
    "\n",
    "print('validation male %: ',len(df_val[df_val['gender']=='male'])/len(df_val)*100)"
   ]
  },
  {
   "cell_type": "code",
   "execution_count": 17,
   "id": "976e1d77",
   "metadata": {},
   "outputs": [
    {
     "data": {
      "image/png": "[encoded data removed]",
      "text/plain": [
       "<Figure size 1000x700 with 2 Axes>"
      ]
     },
     "metadata": {},
     "output_type": "display_data"
    }
   ],
   "source": [
    "# Distribution of ages within each gender\n",
    "male = df_train[df_train['gender']=='male']\n",
    "female = df_train[df_train['gender']=='female']\n",
    "\n",
    "fig, ax = plt.subplots(2,1)\n",
    "ax[0].hist(male['boneage'],color='green',bins=10)\n",
    "ax[0].set_ylabel('Number of Males')\n",
    "\n",
    "ax[1].hist(female['boneage'],color='pink',bins=10)\n",
    "ax[1].set_xlabel('Age in months')\n",
    "ax[1].set_ylabel('Number of Females')\n",
    "fig.set_size_inches((10,7))"
   ]
  },
  {
   "cell_type": "code",
   "execution_count": 18,
   "id": "cae231ea",
   "metadata": {},
   "outputs": [
    {
     "data": {
      "image/png": "[encoded data removed]",
      "text/plain": [
       "<Figure size 1000x700 with 2 Axes>"
      ]
     },
     "metadata": {},
     "output_type": "display_data"
    }
   ],
   "source": [
    "male = df_val[df_val['gender']=='male']\n",
    "female = df_val[df_val['gender']=='female']\n",
    "\n",
    "fig, ax = plt.subplots(2,1)\n",
    "ax[0].hist(male['Bone Age (months)'],color='green',bins=10)\n",
    "ax[0].set_ylabel('Number of Males')\n",
    "\n",
    "ax[1].hist(female['Bone Age (months)'],color='pink',bins=10)\n",
    "ax[1].set_xlabel('Age in months')\n",
    "ax[1].set_ylabel('Number of Females')\n",
    "fig.set_size_inches((10,7))"
   ]
  },
  {
   "cell_type": "code",
   "execution_count": 19,
   "id": "adb8f59d",
   "metadata": {},
   "outputs": [],
   "source": [
    "# Saving Cleaned .CSV files\n",
    "df_train.to_csv('./clean_dataset/df_train.csv',index=False)\n",
    "df_val.to_csv('./clean_dataset/df_val.csv',index=False)\n"
   ]
  },
  {
   "cell_type": "code",
   "execution_count": null,
   "id": "a292c123",
   "metadata": {},
   "outputs": [],
   "source": []
  }
 ],
 "metadata": {
  "kernelspec": {
   "display_name": "Python 3 (ipykernel)",
   "language": "python",
   "name": "python3"
  },
  "language_info": {
   "codemirror_mode": {
    "name": "ipython",
    "version": 3
   },
   "file_extension": ".py",
   "mimetype": "text/x-python",
   "name": "python",
   "nbconvert_exporter": "python",
   "pygments_lexer": "ipython3",
   "version": "3.9.13"
  }
 },
 "nbformat": 4,
 "nbformat_minor": 5
}
